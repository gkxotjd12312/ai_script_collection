{
 "cells": [
  {
   "cell_type": "code",
   "execution_count": 14,
   "metadata": {},
   "outputs": [],
   "source": [
    "import torch\n",
    "import torch.nn as nn\n",
    "import math\n",
    "from torchsummary import summary"
   ]
  },
  {
   "cell_type": "markdown",
   "metadata": {},
   "source": [
    "# conv함수 설정"
   ]
  },
  {
   "cell_type": "code",
   "execution_count": 15,
   "metadata": {},
   "outputs": [],
   "source": [
    "def conv_3x3_bn(in_channel, out_channel, stride):\n",
    "    return nn.Sequential(\n",
    "        nn.Conv2d(in_channel, out_channel,kernel_size=3, stride=stride, padding=1, bias=False),\n",
    "        nn.BatchNorm2d(out_channel),\n",
    "        nn.ReLU6(inplace=True)\n",
    "    )\n",
    "\n",
    "def conv_1x1_bn(in_channel, out_channel):\n",
    "    return nn.Sequential(\n",
    "        nn.Conv2d(in_channel, out_channel, kernel_size=1, stride=1, padding=0, bias=False),\n",
    "        nn.BatchNorm2d(out_channel),\n",
    "        nn.ReLU6(inplace=True)\n",
    "    )"
   ]
  },
  {
   "cell_type": "markdown",
   "metadata": {},
   "source": [
    "# 채널을 8로 나눌수 있게끔 만들어주는 함수"
   ]
  },
  {
   "cell_type": "code",
   "execution_count": 16,
   "metadata": {},
   "outputs": [],
   "source": [
    "#모든 채널의 개수를 8로 나눌 수 있게 만들어주는함수이다.\n",
    "# 이 알고리즘은 나도 잘 모르겠따 그냥 그렇게 해준다고 이해하고 넘겼다.\n",
    "def _make_divisible(v, divisor, min_value=None):\n",
    "    if min_value is None:\n",
    "        min_value = divisor\n",
    "    new_v = max(min_value, int(v + divisor / 2) // divisor * divisor)\n",
    "\n",
    "    if new_v < 0.9 * v:\n",
    "        new_v += divisor\n",
    "    return new_v"
   ]
  },
  {
   "cell_type": "markdown",
   "metadata": {},
   "source": [
    "# invertedResidual블럭 만드는과정"
   ]
  },
  {
   "cell_type": "code",
   "execution_count": 17,
   "metadata": {},
   "outputs": [],
   "source": [
    "class InvertedResidual(nn.Module):\n",
    "    def __init__(self, in_channel, out_channel, stride, expand_ratio):\n",
    "        super(InvertedResidual, self).__init__()\n",
    "        \n",
    "        #stride가 반드시 1,2이도록 조건을 걸어둔다. 만약에 이상한게 들어오면 오류 출력\n",
    "        assert stride in [1,2]\n",
    "        \n",
    "        hidden_dim = round(in_channel * expand_ratio)\n",
    "\n",
    "        self.identity = ((stride == 1) and (in_channel == out_channel))\n",
    "\n",
    "        #channel 수 변경이 없는 경우 expand_ratio가 1이되면서 channel수의 변경이 없어진다.\n",
    "        if expand_ratio == 1:\n",
    "            self.conv = nn.Sequential(\n",
    "                #depthwise과정이다.\n",
    "                nn.Conv2d(hidden_dim, hidden_dim, kernel_size=3, stride=stride, padding=1, groups=hidden_dim, bias=False),\n",
    "                nn.BatchNorm2d(hidden_dim),\n",
    "                nn.ReLU6(inplace=True),\n",
    "\n",
    "                #poinwise-linear과정이다.\n",
    "                nn.Conv2d(hidden_dim, out_channels=out_channel, kernel_size=1, stride=1, padding=0, bias=False),\n",
    "                nn.BatchNorm2d(out_channel)\n",
    "            )\n",
    "        \n",
    "        #channel수 변경이 생기는 경우 바뀌게 될 채널이 \n",
    "        else:\n",
    "            self.conv = nn.Sequential(\n",
    "                #pointwise\n",
    "                nn.Conv2d(in_channels=in_channel, out_channels=hidden_dim, kernel_size=1, stride=1, padding=0, bias=False),\n",
    "                nn.BatchNorm2d(hidden_dim),\n",
    "                nn.ReLU6(inplace=True),\n",
    "\n",
    "                #depthwise\n",
    "                nn.Conv2d(in_channels=hidden_dim, out_channels=hidden_dim, kernel_size=3, stride=stride, padding=1, groups=hidden_dim,bias=False),\n",
    "                nn.BatchNorm2d(hidden_dim),\n",
    "                nn.ReLU6(inplace=True),\n",
    "\n",
    "                #pointwise-linear\n",
    "                nn.Conv2d(in_channels=hidden_dim, out_channels=out_channel, kernel_size=1, stride=1, padding=0, bias=False),\n",
    "                nn.BatchNorm2d(out_channel),\n",
    "            )\n",
    "    \n",
    "    def forward(self, x):\n",
    "        # skipconnection으로 진행\n",
    "        if self.identity:\n",
    "            return x + self.conv(x)\n",
    "        # stride가 2가되면서 skipconnection이 힘들어지기때문에 그냥 진행한다.\n",
    "        else:\n",
    "            return self.conv(x)\n",
    "\n"
   ]
  },
  {
   "cell_type": "markdown",
   "metadata": {},
   "source": [
    "# 모바일넷 구현"
   ]
  },
  {
   "cell_type": "code",
   "execution_count": 18,
   "metadata": {},
   "outputs": [],
   "source": [
    "class MobileNetV2(nn.Module):\n",
    "    def __init__(self, num_classes = 1000, width_mult=1):\n",
    "        super(MobileNetV2, self).__init__()\n",
    "\n",
    "        self.cfgs = [ \n",
    "        # t,c,n,s -> expansion, output cnannel, 반복횟수, stride\n",
    "            [1, 16,  1, 1],\n",
    "            [6, 24,  2, 2],\n",
    "            [6, 32,  3, 2],\n",
    "            [6, 64,  4, 2],\n",
    "            [6, 96,  3, 1],\n",
    "            [6, 160, 3, 2],\n",
    "            [6, 320, 1, 1],\n",
    "        ]\n",
    "\n",
    "        #첫번째 레이어 생성\n",
    "        #channel생성 : 4/8로 나눠 떨어지게\n",
    "        input_channel = _make_divisible(32*width_mult, 4 if width_mult == 0.1 else 8)\n",
    "        layers = [conv_3x3_bn(in_channel=3, out_channel=input_channel, stride=2)]\n",
    "\n",
    "        #inverted residual block만들기\n",
    "        block = InvertedResidual\n",
    "        for t, c, n, s in self.cfgs:\n",
    "            output_channel = _make_divisible(c * width_mult, 4 if width_mult == 0.1 else 8)\n",
    "            for i in range(n):\n",
    "                layers.append(block(input_channel, output_channel, s if i==0 else 1, t))\n",
    "                input_channel = output_channel\n",
    "        self.feature = nn.Sequential(*layers) #지금까지만든거 feature에다가 모으는거\n",
    "\n",
    "        #마지막 레이어 생성\n",
    "        output_channel = _make_divisible(1280 * width_mult, 4 if width_mult == 0.1 else 8) if width_mult > 1.0 else 1280\n",
    "        self.conv = conv_1x1_bn(input_channel, output_channel)\n",
    "        self.avgpool = nn.AdaptiveAvgPool2d((1,1))\n",
    "        self.classifier = nn.Linear(output_channel, num_classes)\n",
    "\n",
    "        self._initialize_weights()\n",
    "    \n",
    "    def forward(self, x):\n",
    "        x = self.feature(x)\n",
    "        x = self.conv(x)\n",
    "        x = self.avgpool(x)\n",
    "        x = x.view(x.size(0), -1)\n",
    "        x = self.classifier(x)\n",
    "        return x\n",
    "    \n",
    "    #초기화 함수\n",
    "    def _initialize_weights(self):\n",
    "        for m in self.modules():\n",
    "            if isinstance(m, nn.Conv2d):\n",
    "                n = m.kernel_size[0] * m.kernel_size[1] * m.out_channels\n",
    "                m.weight.data.normal_(0, math.sqrt(2. / n))\n",
    "                if m.bias is not None:\n",
    "                    m.bias.data.zero_()\n",
    "            elif isinstance(m, nn.BatchNorm2d):\n",
    "                m.weight.data.fill_(1)\n",
    "                m.bias.data.zero_()\n",
    "            elif isinstance(m, nn.Linear):\n",
    "                m.weight.data.normal_(0, 0.01)\n",
    "                m.bias.data.zero_()\n",
    "    "
   ]
  },
  {
   "cell_type": "code",
   "execution_count": 22,
   "metadata": {},
   "outputs": [
    {
     "name": "stdout",
     "output_type": "stream",
     "text": [
      "torch.Size([1, 1000])\n"
     ]
    }
   ],
   "source": [
    "model = MobileNetV2()\n",
    "pred = model(torch.randn(1,3,224,224))\n",
    "print(pred.shape)"
   ]
  },
  {
   "cell_type": "code",
   "execution_count": null,
   "metadata": {},
   "outputs": [],
   "source": []
  }
 ],
 "metadata": {
  "kernelspec": {
   "display_name": "hts_car",
   "language": "python",
   "name": "python3"
  },
  "language_info": {
   "codemirror_mode": {
    "name": "ipython",
    "version": 3
   },
   "file_extension": ".py",
   "mimetype": "text/x-python",
   "name": "python",
   "nbconvert_exporter": "python",
   "pygments_lexer": "ipython3",
   "version": "3.8.16"
  }
 },
 "nbformat": 4,
 "nbformat_minor": 2
}
